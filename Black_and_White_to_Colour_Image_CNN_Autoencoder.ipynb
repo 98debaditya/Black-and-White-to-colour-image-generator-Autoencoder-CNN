{
 "cells": [
  {
   "cell_type": "code",
   "execution_count": 1,
   "id": "4764357c-95ff-4908-810a-a348ac4671ca",
   "metadata": {},
   "outputs": [
    {
     "name": "stderr",
     "output_type": "stream",
     "text": [
      "2023-05-28 17:08:24.387082: I tensorflow/tsl/cuda/cudart_stub.cc:28] Could not find cuda drivers on your machine, GPU will not be used.\n",
      "2023-05-28 17:08:24.595478: I tensorflow/tsl/cuda/cudart_stub.cc:28] Could not find cuda drivers on your machine, GPU will not be used.\n",
      "2023-05-28 17:08:24.596629: I tensorflow/core/platform/cpu_feature_guard.cc:182] This TensorFlow binary is optimized to use available CPU instructions in performance-critical operations.\n",
      "To enable the following instructions: AVX2 FMA, in other operations, rebuild TensorFlow with the appropriate compiler flags.\n",
      "2023-05-28 17:08:25.665333: W tensorflow/compiler/tf2tensorrt/utils/py_utils.cc:38] TF-TRT Warning: Could not find TensorRT\n"
     ]
    }
   ],
   "source": [
    "import numpy as np\n",
    "import pickle\n",
    "import matplotlib.pyplot as plt\n",
    "import tensorflow as tf\n",
    "from tensorflow.keras.models import Model\n",
    "from tensorflow.keras.layers import Conv2D, MaxPool2D, Input, Dense, Conv2DTranspose, BatchNormalization, UpSampling2D\n",
    "from tensorflow.keras.callbacks import ModelCheckpoint\n",
    "from tensorflow.keras.models import load_model"
   ]
  },
  {
   "cell_type": "code",
   "execution_count": 2,
   "id": "6ba40c49-3e0c-4219-a7eb-0f986b753b6a",
   "metadata": {},
   "outputs": [],
   "source": [
    "#Loading Cifar10 Data\n",
    "def cifar10(X):\n",
    "    with open(X, 'rb') as fo:\n",
    "        data = pickle.load(fo, encoding='bytes')\n",
    "    return data\n",
    "\n",
    "#Creating image array from Cifer10\n",
    "def img(X):\n",
    "    X = cifar10(X)\n",
    "    X = X[b'data']/255\n",
    "    X = X.reshape(X.shape[0],3,32,32)\n",
    "    return X.transpose(0,2,3,1)\n",
    "\n",
    "#Creating images with dark spot\n",
    "def BlackWhite(X):\n",
    "    X = cifar10(X)\n",
    "    X = X[b'data']\n",
    "    S = X.shape[0]\n",
    "    X = X.reshape(S,3,32,32)\n",
    "    X = np.sum(X, axis=1)\n",
    "    X = np.repeat(X, 3, axis=0)\n",
    "    X = X.reshape(S,3,32,32)\n",
    "    X = X.transpose(0,2,3,1)\n",
    "    return X/(255*3)\n",
    "\n",
    "#Loading train data\n",
    "def load_train(X):\n",
    "    A = img(X + 'data_batch_1')\n",
    "    for i in range(2,6):\n",
    "        A = np.concatenate((A,img(X + 'data_batch_' + str(i))))\n",
    "    B = BlackWhite(X + 'data_batch_1')\n",
    "    for i in range(2,6):\n",
    "        B = np.concatenate((B,BlackWhite(X + 'data_batch_' + str(i))))\n",
    "    return A,B\n",
    "\n",
    "#Loading test data\n",
    "def load_test(X):\n",
    "    A = img(X + 'test_batch')\n",
    "    B = BlackWhite(X + 'test_batch')\n",
    "    return A,B\n",
    "\n",
    "\n",
    "path = '/home/deb/cifar-10-batches-py/'\n",
    "X_train, Y_train = load_train(path)\n",
    "X_test, Y_test = load_test(path)"
   ]
  },
  {
   "cell_type": "code",
   "execution_count": 3,
   "id": "d919f0f8-d4dc-4d4d-8ca5-883696875412",
   "metadata": {},
   "outputs": [
    {
     "name": "stderr",
     "output_type": "stream",
     "text": [
      "2023-05-28 17:08:53.301346: W tensorflow/tsl/framework/cpu_allocator_impl.cc:83] Allocation of 460800000 exceeds 10% of free system memory.\n"
     ]
    },
    {
     "name": "stdout",
     "output_type": "stream",
     "text": [
      "Epoch 1/30\n"
     ]
    },
    {
     "name": "stderr",
     "output_type": "stream",
     "text": [
      "2023-05-28 17:08:54.666114: W tensorflow/tsl/framework/cpu_allocator_impl.cc:83] Allocation of 460800000 exceeds 10% of free system memory.\n",
      "2023-05-28 17:09:42.569147: W tensorflow/tsl/framework/cpu_allocator_impl.cc:83] Allocation of 153600000 exceeds 10% of free system memory.\n",
      "2023-05-28 17:09:42.988098: W tensorflow/tsl/framework/cpu_allocator_impl.cc:83] Allocation of 153600000 exceeds 10% of free system memory.\n"
     ]
    },
    {
     "name": "stdout",
     "output_type": "stream",
     "text": [
      "\n",
      "Epoch 1: val_loss improved from inf to 0.61982, saving model to BW_colur.h5\n",
      "293/293 - 51s - loss: 0.5864 - val_loss: 0.6198 - 51s/epoch - 174ms/step\n",
      "Epoch 2/30\n",
      "\n",
      "Epoch 2: val_loss improved from 0.61982 to 0.57764, saving model to BW_colur.h5\n",
      "293/293 - 48s - loss: 0.5718 - val_loss: 0.5776 - 48s/epoch - 165ms/step\n",
      "Epoch 3/30\n",
      "\n",
      "Epoch 3: val_loss improved from 0.57764 to 0.57159, saving model to BW_colur.h5\n",
      "293/293 - 47s - loss: 0.5695 - val_loss: 0.5716 - 47s/epoch - 159ms/step\n",
      "Epoch 4/30\n",
      "\n",
      "Epoch 4: val_loss did not improve from 0.57159\n",
      "293/293 - 46s - loss: 0.5682 - val_loss: 0.5757 - 46s/epoch - 157ms/step\n",
      "Epoch 5/30\n",
      "\n",
      "Epoch 5: val_loss improved from 0.57159 to 0.57015, saving model to BW_colur.h5\n",
      "293/293 - 46s - loss: 0.5672 - val_loss: 0.5701 - 46s/epoch - 156ms/step\n",
      "Epoch 6/30\n",
      "\n",
      "Epoch 6: val_loss improved from 0.57015 to 0.56797, saving model to BW_colur.h5\n",
      "293/293 - 46s - loss: 0.5666 - val_loss: 0.5680 - 46s/epoch - 156ms/step\n",
      "Epoch 7/30\n",
      "\n",
      "Epoch 7: val_loss did not improve from 0.56797\n",
      "293/293 - 47s - loss: 0.5659 - val_loss: 0.5688 - 47s/epoch - 161ms/step\n",
      "Epoch 8/30\n",
      "\n",
      "Epoch 8: val_loss did not improve from 0.56797\n",
      "293/293 - 46s - loss: 0.5654 - val_loss: 0.5681 - 46s/epoch - 158ms/step\n",
      "Epoch 9/30\n",
      "\n",
      "Epoch 9: val_loss improved from 0.56797 to 0.56686, saving model to BW_colur.h5\n",
      "293/293 - 47s - loss: 0.5649 - val_loss: 0.5669 - 47s/epoch - 160ms/step\n",
      "Epoch 10/30\n",
      "\n",
      "Epoch 10: val_loss improved from 0.56686 to 0.56615, saving model to BW_colur.h5\n",
      "293/293 - 80s - loss: 0.5647 - val_loss: 0.5661 - 80s/epoch - 272ms/step\n",
      "Epoch 11/30\n",
      "\n",
      "Epoch 11: val_loss did not improve from 0.56615\n",
      "293/293 - 46s - loss: 0.5644 - val_loss: 0.5664 - 46s/epoch - 157ms/step\n",
      "Epoch 12/30\n",
      "\n",
      "Epoch 12: val_loss did not improve from 0.56615\n",
      "293/293 - 46s - loss: 0.5641 - val_loss: 0.5671 - 46s/epoch - 157ms/step\n",
      "Epoch 13/30\n",
      "\n",
      "Epoch 13: val_loss did not improve from 0.56615\n",
      "293/293 - 83s - loss: 0.5638 - val_loss: 0.5685 - 83s/epoch - 282ms/step\n",
      "Epoch 14/30\n",
      "\n",
      "Epoch 14: val_loss improved from 0.56615 to 0.56542, saving model to BW_colur.h5\n",
      "293/293 - 46s - loss: 0.5637 - val_loss: 0.5654 - 46s/epoch - 158ms/step\n",
      "Epoch 15/30\n",
      "\n",
      "Epoch 15: val_loss did not improve from 0.56542\n",
      "293/293 - 79s - loss: 0.5636 - val_loss: 0.5667 - 79s/epoch - 270ms/step\n",
      "Epoch 16/30\n",
      "\n",
      "Epoch 16: val_loss did not improve from 0.56542\n",
      "293/293 - 46s - loss: 0.5634 - val_loss: 0.5660 - 46s/epoch - 157ms/step\n",
      "Epoch 17/30\n",
      "\n",
      "Epoch 17: val_loss did not improve from 0.56542\n",
      "293/293 - 47s - loss: 0.5633 - val_loss: 0.5660 - 47s/epoch - 159ms/step\n",
      "Epoch 18/30\n",
      "\n",
      "Epoch 18: val_loss improved from 0.56542 to 0.56538, saving model to BW_colur.h5\n",
      "293/293 - 82s - loss: 0.5631 - val_loss: 0.5654 - 82s/epoch - 279ms/step\n",
      "Epoch 19/30\n",
      "\n",
      "Epoch 19: val_loss did not improve from 0.56538\n",
      "293/293 - 46s - loss: 0.5631 - val_loss: 0.5659 - 46s/epoch - 158ms/step\n",
      "Epoch 20/30\n",
      "\n",
      "Epoch 20: val_loss did not improve from 0.56538\n",
      "293/293 - 46s - loss: 0.5630 - val_loss: 0.5662 - 46s/epoch - 158ms/step\n",
      "Epoch 21/30\n",
      "\n",
      "Epoch 21: val_loss improved from 0.56538 to 0.56480, saving model to BW_colur.h5\n",
      "293/293 - 81s - loss: 0.5629 - val_loss: 0.5648 - 81s/epoch - 276ms/step\n",
      "Epoch 22/30\n",
      "\n",
      "Epoch 22: val_loss improved from 0.56480 to 0.56465, saving model to BW_colur.h5\n",
      "293/293 - 46s - loss: 0.5628 - val_loss: 0.5647 - 46s/epoch - 157ms/step\n",
      "Epoch 23/30\n",
      "\n",
      "Epoch 23: val_loss improved from 0.56465 to 0.56455, saving model to BW_colur.h5\n",
      "293/293 - 46s - loss: 0.5628 - val_loss: 0.5645 - 46s/epoch - 158ms/step\n",
      "Epoch 24/30\n",
      "\n",
      "Epoch 24: val_loss did not improve from 0.56455\n",
      "293/293 - 62s - loss: 0.5626 - val_loss: 0.5653 - 62s/epoch - 212ms/step\n",
      "Epoch 25/30\n",
      "\n",
      "Epoch 25: val_loss did not improve from 0.56455\n",
      "293/293 - 59s - loss: 0.5627 - val_loss: 0.5653 - 59s/epoch - 201ms/step\n",
      "Epoch 26/30\n",
      "\n",
      "Epoch 26: val_loss did not improve from 0.56455\n",
      "293/293 - 46s - loss: 0.5625 - val_loss: 0.5653 - 46s/epoch - 158ms/step\n",
      "Epoch 27/30\n",
      "\n",
      "Epoch 27: val_loss did not improve from 0.56455\n",
      "293/293 - 47s - loss: 0.5624 - val_loss: 0.5653 - 47s/epoch - 159ms/step\n",
      "Epoch 28/30\n",
      "\n",
      "Epoch 28: val_loss did not improve from 0.56455\n",
      "293/293 - 47s - loss: 0.5624 - val_loss: 0.5649 - 47s/epoch - 159ms/step\n",
      "Epoch 29/30\n",
      "\n",
      "Epoch 29: val_loss improved from 0.56455 to 0.56392, saving model to BW_colur.h5\n",
      "293/293 - 64s - loss: 0.5624 - val_loss: 0.5639 - 64s/epoch - 218ms/step\n",
      "Epoch 30/30\n",
      "\n",
      "Epoch 30: val_loss did not improve from 0.56392\n",
      "293/293 - 57s - loss: 0.5623 - val_loss: 0.5647 - 57s/epoch - 195ms/step\n"
     ]
    }
   ],
   "source": [
    "#Encoder\n",
    "_input_ = Input(shape = (32, 32, 3))\n",
    "layer = Conv2D(32, (3,3), activation = 'relu', padding = 'same')(_input_)\n",
    "layer = BatchNormalization()(layer)\n",
    "layer = MaxPool2D(pool_size = (2,2), padding = 'same')(layer)\n",
    "layer = Conv2D(32, (3,3), activation = 'relu', padding = 'same')(layer)\n",
    "layer = BatchNormalization()(layer)\n",
    "layer = MaxPool2D(pool_size = (2,2), padding = 'same')(layer)\n",
    "\n",
    "#Decoder\n",
    "layer = Conv2D(32, (3,3), activation = 'relu', padding = 'same')(layer)\n",
    "layer = BatchNormalization()(layer)\n",
    "layer = UpSampling2D()(layer)\n",
    "layer = Conv2D(32, (3,3), activation = 'relu', padding = 'same')(layer)\n",
    "layer = BatchNormalization()(layer)\n",
    "layer = UpSampling2D()(layer)\n",
    "_output_ = Conv2D(3, (3,3), activation = 'sigmoid', padding = 'same')(layer)\n",
    "\n",
    "autoencoder = Model(_input_,_output_,name = 'BW_colur')\n",
    "autoencoder.compile(loss = 'binary_crossentropy', optimizer = 'adam')\n",
    "\n",
    "cp = ModelCheckpoint('BW_colur.h5', save_best_only = True, save_weights_only = False, verbose = 1)\n",
    "network = autoencoder.fit(Y_train, X_train, batch_size = 128, epochs =30, callbacks = cp, validation_split = 0.25, verbose = 2)"
   ]
  },
  {
   "cell_type": "code",
   "execution_count": 4,
   "id": "a6f5ad57-255c-41ee-9f40-9a738503ec0f",
   "metadata": {},
   "outputs": [
    {
     "data": {
      "text/plain": [
       "<matplotlib.image.AxesImage at 0x7f8ef03893f0>"
      ]
     },
     "execution_count": 4,
     "metadata": {},
     "output_type": "execute_result"
    },
    {
     "data": {
      "image/png": "[encoded data removed]",
      "text/plain": [
       "<Figure size 640x480 with 1 Axes>"
      ]
     },
     "metadata": {},
     "output_type": "display_data"
    }
   ],
   "source": [
    "autoencoder = load_model('BW_colur.h5')\n",
    "plt.imshow(X_test[1004])"
   ]
  },
  {
   "cell_type": "code",
   "execution_count": 5,
   "id": "26b0a6a4-aeba-4f41-8b47-72f485878963",
   "metadata": {},
   "outputs": [
    {
     "data": {
      "text/plain": [
       "<matplotlib.image.AxesImage at 0x7f8ee82e73a0>"
      ]
     },
     "execution_count": 5,
     "metadata": {},
     "output_type": "execute_result"
    },
    {
     "data": {
      "image/png": "[encoded data removed]",
      "text/plain": [
       "<Figure size 640x480 with 1 Axes>"
      ]
     },
     "metadata": {},
     "output_type": "display_data"
    }
   ],
   "source": [
    "plt.imshow(Y_test[1004])"
   ]
  },
  {
   "cell_type": "code",
   "execution_count": 6,
   "id": "232e3482-9a5a-4596-9251-19d511dc995c",
   "metadata": {},
   "outputs": [
    {
     "name": "stdout",
     "output_type": "stream",
     "text": [
      "  1/313 [..............................] - ETA: 30s"
     ]
    },
    {
     "name": "stderr",
     "output_type": "stream",
     "text": [
      "2023-05-28 17:36:37.404497: W tensorflow/tsl/framework/cpu_allocator_impl.cc:83] Allocation of 122880000 exceeds 10% of free system memory.\n"
     ]
    },
    {
     "name": "stdout",
     "output_type": "stream",
     "text": [
      "313/313 [==============================] - 4s 12ms/step\n"
     ]
    },
    {
     "data": {
      "text/plain": [
       "(10000, 32, 32, 3)"
      ]
     },
     "execution_count": 6,
     "metadata": {},
     "output_type": "execute_result"
    }
   ],
   "source": [
    "pred = autoencoder.predict(Y_test)\n",
    "pred.shape"
   ]
  },
  {
   "cell_type": "code",
   "execution_count": 7,
   "id": "051cc90e-b846-46d7-ab14-7a90c69d9d22",
   "metadata": {},
   "outputs": [
    {
     "data": {
      "text/plain": [
       "<matplotlib.image.AxesImage at 0x7f8ee83a9270>"
      ]
     },
     "execution_count": 7,
     "metadata": {},
     "output_type": "execute_result"
    },
    {
     "data": {
      "image/png": "[encoded data removed]",
      "text/plain": [
       "<Figure size 640x480 with 1 Axes>"
      ]
     },
     "metadata": {},
     "output_type": "display_data"
    }
   ],
   "source": [
    "plt.imshow(pred[1004])"
   ]
  },
  {
   "cell_type": "code",
   "execution_count": null,
   "id": "8c4ed525-bd7a-415a-acb1-a31e181c4e74",
   "metadata": {},
   "outputs": [],
   "source": []
  }
 ],
 "metadata": {
  "kernelspec": {
   "display_name": "Python 3 (ipykernel)",
   "language": "python",
   "name": "python3"
  },
  "language_info": {
   "codemirror_mode": {
    "name": "ipython",
    "version": 3
   },
   "file_extension": ".py",
   "mimetype": "text/x-python",
   "name": "python",
   "nbconvert_exporter": "python",
   "pygments_lexer": "ipython3",
   "version": "3.10.6"
  }
 },
 "nbformat": 4,
 "nbformat_minor": 5
}
